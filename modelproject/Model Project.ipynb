{
 "cells": [
  {
   "cell_type": "code",
   "execution_count": 26,
   "metadata": {},
   "outputs": [],
   "source": [
    "# Importing packages\n",
    "import pandas as pd # Data structure and analysis package\n",
    "import numpy as np # Computing package\n",
    "import matplotlib.pyplot as plt # Plots\n",
    "import math\n",
    "import scipy as sp\n",
    "from scipy import linalg\n",
    "from scipy import optimize\n",
    "import sympy as sm\n",
    "from sympy import Max, Symbol, oo, Eq, solve\n",
    "import nashpy as nash"
   ]
  },
  {
   "cell_type": "markdown",
   "metadata": {},
   "source": [
    "In our project we consider the collusion game known from industrial organization/game theory courses. The firms compete over quantities i.e. ála Cournot.$^1$ We start by finding the profit in the Cournot case. After, we find each firms collusion profits and lastly we look at the optimal deviation from collusion and the profits that follows. In our model demand is charaterized by the inverse demand function: \n",
    "$$P=max\\{a - b \\cdot Q ,0\\} $$\n",
    "Firms are assumed to have constant marginal cost and the total cost for each firm is as follows:\n",
    "$$TC = c \\cdot q_i$$\n",
    "We assume that $a-c>0$ such that the firm produces a positive quantity. Before finding the Cournot profit, we define our variables.\n",
    "\n",
    "1: Alternatively, one could think of the competition as being over prices with capacity constraints which yield the Cornout output.  "
   ]
  },
  {
   "cell_type": "code",
   "execution_count": 27,
   "metadata": {},
   "outputs": [],
   "source": [
    "Q = sm.symbols('Q')\n",
    "q1 = sm.symbols('q_1')\n",
    "q1s = sm.symbols('q_1*')\n",
    "q2 = sm.symbols('q_2')\n",
    "q2s = sm.symbols('q_2*')\n",
    "P = sm.symbols('P')\n",
    "a = sm.symbols('a')\n",
    "c = sm.symbols('c')\n",
    "pi1 = sm.symbols('pi_1')\n",
    "pi2 = sm.symbols('pi_2')\n",
    "TC1 = sm.symbols('TC_1')\n",
    "TC2 = sm.symbols('TC_2')\n",
    "delta = sm.symbols('delta')"
   ]
  },
  {
   "cell_type": "markdown",
   "metadata": {},
   "source": [
    "We define our variables "
   ]
  },
  {
   "cell_type": "code",
   "execution_count": 28,
   "metadata": {},
   "outputs": [],
   "source": [
    "Q = q1 + q2\n",
    "P = a - q1 - q2\n",
    "TC1 = c * q1\n",
    "TC2 = c * q2\n",
    "pi1 = P * q1 - TC1\n",
    "pi2 = P * q2 - TC2"
   ]
  },
  {
   "cell_type": "markdown",
   "metadata": {},
   "source": [
    "We set $a$ and $b$ equal to some values and draw 100 exogenous quantities for firm 2 for which we will find the best response for firm 1. "
   ]
  },
  {
   "cell_type": "code",
   "execution_count": 29,
   "metadata": {},
   "outputs": [],
   "source": [
    "a = 100\n",
    "c = 30\n",
    "b = 1\n",
    "N = 999\n",
    "q2_vec = np.linspace(0,99,N) "
   ]
  },
  {
   "cell_type": "markdown",
   "metadata": {},
   "source": [
    "We set up our profit maximization problem \n",
    "$$\\underset{q_1}{max} \\quad \\pi = (a-b\\cdot (q_1+q_2)) \\cdot q_1 -c \\cdot q_1 $$"
   ]
  },
  {
   "cell_type": "code",
   "execution_count": 30,
   "metadata": {},
   "outputs": [],
   "source": [
    "def pi11(q1):\n",
    "    return (a-b*(q1+q2))*q1 -c * q1\n",
    "q2_try = []\n",
    "q1_BR = []\n",
    "pi1_BR = []"
   ]
  },
  {
   "cell_type": "markdown",
   "metadata": {},
   "source": [
    "We optimize firm 1's profit to the exogenous drawn quantity of firm 2 hence, finding the best response for firm 1 for a given quantity of firm 2."
   ]
  },
  {
   "cell_type": "code",
   "execution_count": 31,
   "metadata": {},
   "outputs": [
    {
     "data": {
      "text/plain": [
       "      fun: -210.25000000000003\n",
       " hess_inv: array([[0.50000006]])\n",
       "      jac: array([0.])\n",
       "  message: 'Optimization terminated successfully.'\n",
       "     nfev: 18\n",
       "      nit: 3\n",
       "     njev: 6\n",
       "   status: 0\n",
       "  success: True\n",
       "        x: array([-14.49999991])"
      ]
     },
     "execution_count": 31,
     "metadata": {},
     "output_type": "execute_result"
    }
   ],
   "source": [
    "for i in q2_vec:\n",
    "    q2 = i\n",
    "    q1_guess = 60      \n",
    "    objective_function = lambda q1: -pi11(q1)\n",
    "    res = optimize.minimize(objective_function, q1_guess, method='BFGS')\n",
    "    q2_try.append(i)\n",
    "    q1_BR.append(res.x[0])\n",
    "    pi1_BR.append(-res.fun)\n",
    "res"
   ]
  },
  {
   "cell_type": "markdown",
   "metadata": {},
   "source": [
    "Negative quantities do not make sense and therefore we set these to zero. Further, the firms will rather choose to produce no products and get a profit of zero than getting a negative profit thus, we set these to zero. Note that we do not change the negative profits for firm 2 as these are exogenous drawn and not a best response."
   ]
  },
  {
   "cell_type": "code",
   "execution_count": 32,
   "metadata": {},
   "outputs": [],
   "source": [
    "for i in range(N):\n",
    "    if q1_BR[i]<=0 or pi1_BR[i]<=0:\n",
    "        q1_BR[i]=0\n",
    "        pi1_BR[i]=0\n",
    "    else:\n",
    "        pass"
   ]
  },
  {
   "cell_type": "markdown",
   "metadata": {},
   "source": [
    "We gather out dataset in a DataFrame."
   ]
  },
  {
   "cell_type": "code",
   "execution_count": 33,
   "metadata": {},
   "outputs": [
    {
     "data": {
      "text/html": [
       "<div>\n",
       "<style scoped>\n",
       "    .dataframe tbody tr th:only-of-type {\n",
       "        vertical-align: middle;\n",
       "    }\n",
       "\n",
       "    .dataframe tbody tr th {\n",
       "        vertical-align: top;\n",
       "    }\n",
       "\n",
       "    .dataframe thead th {\n",
       "        text-align: right;\n",
       "    }\n",
       "</style>\n",
       "<table border=\"1\" class=\"dataframe\">\n",
       "  <thead>\n",
       "    <tr style=\"text-align: right;\">\n",
       "      <th></th>\n",
       "      <th>q2_exo</th>\n",
       "      <th>q1_BR</th>\n",
       "      <th>pi1</th>\n",
       "      <th>P</th>\n",
       "      <th>pi2</th>\n",
       "    </tr>\n",
       "  </thead>\n",
       "  <tbody>\n",
       "    <tr>\n",
       "      <th>994</th>\n",
       "      <td>98.6</td>\n",
       "      <td>0.0</td>\n",
       "      <td>0.0</td>\n",
       "      <td>1.4</td>\n",
       "      <td>-2820.4</td>\n",
       "    </tr>\n",
       "    <tr>\n",
       "      <th>995</th>\n",
       "      <td>98.7</td>\n",
       "      <td>0.0</td>\n",
       "      <td>0.0</td>\n",
       "      <td>1.3</td>\n",
       "      <td>-2833.0</td>\n",
       "    </tr>\n",
       "    <tr>\n",
       "      <th>996</th>\n",
       "      <td>98.8</td>\n",
       "      <td>0.0</td>\n",
       "      <td>0.0</td>\n",
       "      <td>1.2</td>\n",
       "      <td>-2845.6</td>\n",
       "    </tr>\n",
       "    <tr>\n",
       "      <th>997</th>\n",
       "      <td>98.9</td>\n",
       "      <td>0.0</td>\n",
       "      <td>0.0</td>\n",
       "      <td>1.1</td>\n",
       "      <td>-2858.3</td>\n",
       "    </tr>\n",
       "    <tr>\n",
       "      <th>998</th>\n",
       "      <td>99.0</td>\n",
       "      <td>0.0</td>\n",
       "      <td>0.0</td>\n",
       "      <td>1.0</td>\n",
       "      <td>-2871.0</td>\n",
       "    </tr>\n",
       "  </tbody>\n",
       "</table>\n",
       "</div>"
      ],
      "text/plain": [
       "     q2_exo  q1_BR  pi1    P     pi2\n",
       "994    98.6    0.0  0.0  1.4 -2820.4\n",
       "995    98.7    0.0  0.0  1.3 -2833.0\n",
       "996    98.8    0.0  0.0  1.2 -2845.6\n",
       "997    98.9    0.0  0.0  1.1 -2858.3\n",
       "998    99.0    0.0  0.0  1.0 -2871.0"
      ]
     },
     "execution_count": 33,
     "metadata": {},
     "output_type": "execute_result"
    }
   ],
   "source": [
    "q1_BR = np.transpose(q1_BR)\n",
    "pi1_BR = np.transpose(pi1_BR)\n",
    "df=pd.DataFrame(q2_try)\n",
    "df.columns=['q2_exo']\n",
    "df['q1_BR'] = q1_BR\n",
    "df['pi1'] = pi1_BR \n",
    "\n",
    "df['P'] = a - df['q1_BR'] - df['q2_exo']\n",
    "df['pi2'] = np.transpose(df['P'] * df['q2_exo']) - c * df['q2_exo']\n",
    "\n",
    "df = df.round(1)\n",
    "df.tail()"
   ]
  },
  {
   "cell_type": "markdown",
   "metadata": {},
   "source": [
    "We plot the two best responses against each other. The intersection between the curves is the Nash equilibrium of Cournot game."
   ]
  },
  {
   "cell_type": "code",
   "execution_count": 34,
   "metadata": {},
   "outputs": [],
   "source": [
    "q1_exo=df['q2_exo'].copy()\n",
    "q2_BR=df['q1_BR'].copy()"
   ]
  },
  {
   "cell_type": "code",
   "execution_count": 35,
   "metadata": {},
   "outputs": [
    {
     "data": {
      "image/png": "[encoded data removed]",
      "text/plain": [
       "<Figure size 432x288 with 1 Axes>"
      ]
     },
     "metadata": {
      "needs_background": "light"
     },
     "output_type": "display_data"
    }
   ],
   "source": [
    "plt.plot(q2_BR[0:999], q1_exo[0:999], label='BR(q2) for Firm 1')\n",
    "plt.plot(df['q2_exo'][0:999],df['q1_BR'][0:999], label='BR(q1) for Firm 2')\n",
    "plt.xlabel('q1')\n",
    "plt.ylabel('q2')\n",
    "plt.legend()\n",
    "plt.show()"
   ]
  },
  {
   "cell_type": "markdown",
   "metadata": {},
   "source": [
    "We will now find the intersection i.e. the Nash equilibrium along with the profits that follow."
   ]
  },
  {
   "cell_type": "code",
   "execution_count": 36,
   "metadata": {},
   "outputs": [
    {
     "name": "stdout",
     "output_type": "stream",
     "text": [
      "Profit cournot = 545.0\n",
      "Quantity cournot = 23.3\n"
     ]
    }
   ],
   "source": [
    "for i in range(N):\n",
    "    if df['q2_exo'][i] == df['q1_BR'][i] and df['q1_BR'][i] > 0:\n",
    "        pi_cournot = df['pi1'][i] \n",
    "        q_cournot = df['q1_BR'][i]\n",
    "    else:\n",
    "        pass\n",
    "print(f'Profit cournot = {pi_cournot}')\n",
    "print(f'Quantity cournot = {q_cournot}')"
   ]
  },
  {
   "cell_type": "markdown",
   "metadata": {},
   "source": [
    "## Collusion "
   ]
  },
  {
   "cell_type": "markdown",
   "metadata": {},
   "source": [
    "Instead of competing the firms can form a cartel and split the monopoly profit. In other words, the firms face the following maximization problem: \n",
    "$$\\underset{Q}{max} \\quad \\pi = (a-Q) \\cdot Q -c \\cdot Q $$"
   ]
  },
  {
   "cell_type": "code",
   "execution_count": 37,
   "metadata": {},
   "outputs": [],
   "source": [
    "def pi12(Q):\n",
    "    return (a-Q)*Q - c * Q"
   ]
  },
  {
   "cell_type": "code",
   "execution_count": 38,
   "metadata": {},
   "outputs": [
    {
     "data": {
      "text/plain": [
       "      fun: -1224.9999999999613\n",
       " hess_inv: array([[0.50000046]])\n",
       "      jac: array([0.])\n",
       "  message: 'Optimization terminated successfully.'\n",
       "     nfev: 15\n",
       "      nit: 3\n",
       "     njev: 5\n",
       "   status: 0\n",
       "  success: True\n",
       "        x: array([35.00000619])"
      ]
     },
     "execution_count": 38,
     "metadata": {},
     "output_type": "execute_result"
    }
   ],
   "source": [
    "objective_function = lambda Q: -pi12(Q)\n",
    "res_col = optimize.minimize(objective_function, 20, method='BFGS')\n",
    "Q_col=res_col.x[0]\n",
    "res_col"
   ]
  },
  {
   "cell_type": "code",
   "execution_count": 39,
   "metadata": {},
   "outputs": [
    {
     "name": "stdout",
     "output_type": "stream",
     "text": [
      "Total collusion profit = 1225.0\n",
      "Individual collusion profit = 612.5\n",
      "Individual collusion quantity = 17.5\n"
     ]
    }
   ],
   "source": [
    "pi_joint_col=-round(res_col.fun,1)\n",
    "pi_indi_col = round(pi_joint_col * 0.5,1)\n",
    "q_indi_col = round(Q_col * 0.5, 1)\n",
    "print(f'Total collusion profit = {pi_joint_col}')\n",
    "print(f'Individual collusion profit = {pi_indi_col}')\n",
    "print(f'Individual collusion quantity = {q_indi_col}')"
   ]
  },
  {
   "cell_type": "markdown",
   "metadata": {},
   "source": [
    "## Optimal deviation"
   ]
  },
  {
   "cell_type": "markdown",
   "metadata": {},
   "source": [
    "If the firms decide to collude, one firm can cheat on the other and choose to deviate away from the colluding equilibrium. Instead of producing the agreed quantity, the deviating firm will choose to produce their best response quantity. "
   ]
  },
  {
   "cell_type": "code",
   "execution_count": 40,
   "metadata": {},
   "outputs": [
    {
     "name": "stdout",
     "output_type": "stream",
     "text": [
      "Optimal deviation profit = 690.1\n",
      "The firm who gets cheated on profit = 458.7\n"
     ]
    }
   ],
   "source": [
    "pi_dev = round(float(df.loc[df['q2_exo']==q_indi_col, 'pi1']),1)\n",
    "pi_no_col = round(float(df.loc[df['q2_exo']==q_indi_col, 'pi2']),1)\n",
    "print(f'Optimal deviation profit = {pi_dev}')\n",
    "print(f'The firm who gets cheated on profit = {pi_no_col}')"
   ]
  },
  {
   "cell_type": "markdown",
   "metadata": {},
   "source": [
    "## Static game between the firms"
   ]
  },
  {
   "cell_type": "markdown",
   "metadata": {},
   "source": [
    "We have now calculated payoffs from all possible scenarios. As the firms simultaneously choose to play play either $Collusion$ or $Cournot$, we are able to write up a bimatrix for the cartel stability game."
   ]
  },
  {
   "cell_type": "code",
   "execution_count": 41,
   "metadata": {},
   "outputs": [
    {
     "data": {
      "text/html": [
       "<div>\n",
       "<style scoped>\n",
       "    .dataframe tbody tr th:only-of-type {\n",
       "        vertical-align: middle;\n",
       "    }\n",
       "\n",
       "    .dataframe tbody tr th {\n",
       "        vertical-align: top;\n",
       "    }\n",
       "\n",
       "    .dataframe thead th {\n",
       "        text-align: right;\n",
       "    }\n",
       "</style>\n",
       "<table border=\"1\" class=\"dataframe\">\n",
       "  <thead>\n",
       "    <tr style=\"text-align: right;\">\n",
       "      <th></th>\n",
       "      <th>Collusion</th>\n",
       "      <th>Cournot</th>\n",
       "    </tr>\n",
       "  </thead>\n",
       "  <tbody>\n",
       "    <tr>\n",
       "      <th>Collusion</th>\n",
       "      <td>(612.5, 612.5)</td>\n",
       "      <td>(458.7, 690.1)</td>\n",
       "    </tr>\n",
       "    <tr>\n",
       "      <th>Cournot</th>\n",
       "      <td>(690.1, 458.7)</td>\n",
       "      <td>(545.0, 545.0)</td>\n",
       "    </tr>\n",
       "  </tbody>\n",
       "</table>\n",
       "</div>"
      ],
      "text/plain": [
       "                Collusion         Cournot\n",
       "Collusion  (612.5, 612.5)  (458.7, 690.1)\n",
       "Cournot    (690.1, 458.7)  (545.0, 545.0)"
      ]
     },
     "execution_count": 41,
     "metadata": {},
     "output_type": "execute_result"
    }
   ],
   "source": [
    "Payoff_M = [[(pi_indi_col,pi_indi_col),(pi_no_col,pi_dev)],[(pi_dev,pi_no_col),(pi_cournot,pi_cournot)]]\n",
    "Payoff_M = pd.DataFrame(Payoff_M, index = ['Collusion', 'Cournot'], columns = ['Collusion','Cournot'])\n",
    "Payoff_M"
   ]
  },
  {
   "cell_type": "markdown",
   "metadata": {},
   "source": [
    "We solve for the subgame perfect Nash equilibrum."
   ]
  },
  {
   "cell_type": "markdown",
   "metadata": {},
   "source": [
    "We solve our bimatrix. We do this by using the package *nashpy* (if you have not already installed the package, it is done by typing *pip install nashpy* in your Anacondat Prompt or terminal + enter).  "
   ]
  },
  {
   "cell_type": "code",
   "execution_count": 42,
   "metadata": {},
   "outputs": [
    {
     "name": "stdout",
     "output_type": "stream",
     "text": [
      "With probability 0.0 player 1 will play Collusion\n",
      "With probability 1.0 player 1 will play Cournot\n",
      "With probability 0.0 player 2 will play Collusion\n",
      "With probability 1.0 player 2 will play Cournot\n"
     ]
    }
   ],
   "source": [
    "p1_Payoff = np.array([[pi_indi_col,pi_no_col],[pi_dev,pi_cournot]])\n",
    "p2_Payoff = np.array([[pi_indi_col,pi_dev],[pi_no_col,pi_cournot]])\n",
    "rps = nash.Game(p1_Payoff, p2_Payoff)\n",
    "rps\n",
    "eqs = rps.support_enumeration()\n",
    "NE = list(eqs)\n",
    "print(f'With probability {NE[0][0][0]} player 1 will play Collusion') \n",
    "print(f'With probability {NE[0][0][1]} player 1 will play Cournot')\n",
    "print(f'With probability {NE[0][1][0]} player 2 will play Collusion')\n",
    "print(f'With probability {NE[0][1][1]} player 2 will play Cournot')"
   ]
  },
  {
   "cell_type": "markdown",
   "metadata": {},
   "source": [
    "We get the $SPNE = \\{Cournot, Cournot\\}$. In other words, the cartel stability game is a prisoners dilemma and the players end up in the paretodominated scenario. "
   ]
  },
  {
   "cell_type": "markdown",
   "metadata": {},
   "source": [
    "## Infinetely repeated game"
   ]
  },
  {
   "cell_type": "markdown",
   "metadata": {},
   "source": [
    "In most real world apliccations cartels do not just meet once, but instead multiple times where the firms in each period decide to either collude or compete. Then each period can be thought of as a new prisoners dilemma. If time is assumed to be infinite, we have infinitely many periods and the game is repeated infinitely many times (G($\\infty$)).$^1$ If this is the case let us consider the grim trigger strategy which is defined as:\n",
    "\n",
    "$s_{1,2}$: *In the first period play \"Cartel\". In every other period play* \"Cartel\" *if* \"Cartel\" *is played by \n",
    "the other firm in all previous periods. If* \"Cartel\" *is not played in every previous period play* \"No Cartel\".\n",
    "\n",
    "We note that playing \"No Cartel\" is a Nash equilibrium and therefore a credible threat. Furthermore, we see that both firms can get a higher pay-off from deviating in the current period. However, the deviating firm will then get punished in all future periods. Therefore, there must exist a value of how much the firms have to value future profit compared to profit gained today in order not to deviate. Let us call this value $\\delta$. $\\delta$ is found by solving the equation below. \n",
    "\n",
    "$$\\sum^{\\infty}_{i=0} \\delta^t \\cdot \\pi^{Col} \\geq \\pi^{dev} + \\sum^{\\infty}_{i=1} \\delta^t \\cdot \\pi^{Cour} \\Leftrightarrow$$\n",
    "$$\\frac{1}{1-\\delta} \\cdot \\pi^{Col} \\geq \\pi^{dev} + \\frac{\\delta}{1-\\delta} \\cdot \\pi^{Cour} $$\n",
    "\n",
    "1: A more realistic and intuitive way to think of the infinite game is a game that is being played over and over, but might not be infinite. However, it is played so many times that the last times it is being played do not matter for the outcome in the current period. In that way the game might not be objectively infinite, but it is infinite in the minds of the players. Alternatively, the players do not know whether this is the last time the game is being played. They play the game believing that it is not the last round, while it actually could be the last round, but they behave as they will meet again."
   ]
  },
  {
   "cell_type": "code",
   "execution_count": 43,
   "metadata": {},
   "outputs": [
    {
     "name": "stdout",
     "output_type": "stream",
     "text": [
      "The firms will not deviate as long as delta is larger than or equal 0.53. Delta can be interpreted as how much the firms value profits gained tomorrow compared to those gained today and in that sense, the firms have to value profits gained tommorow 0.53 as much as profits gained today in order to sustain collusion.\n"
     ]
    }
   ],
   "source": [
    "d = Symbol('d')\n",
    "delta = solve(Eq(1/(1-d) * pi_indi_col, pi_dev + d/(1-d) * pi_cournot),d)\n",
    "print(f'The firms will not deviate as long as delta is larger than or equal {round(delta[0],2)}. Delta can be interpreted as how much the firms value profits gained tomorrow compared to those gained today and in that sense, the firms have to value profits gained tommorow {round(delta[0],2)} as much as profits gained today in order to sustain collusion.')"
   ]
  },
  {
   "cell_type": "markdown",
   "metadata": {},
   "source": [
    "We will now solve the whole game in a single function such that it is easier to solve the game with different values og $a$, $b$ and $c$"
   ]
  },
  {
   "cell_type": "code",
   "execution_count": 44,
   "metadata": {},
   "outputs": [
    {
     "name": "stdout",
     "output_type": "stream",
     "text": [
      "Once deleted, variables cannot be recovered. Proceed (y/[n])? y\n"
     ]
    }
   ],
   "source": [
    "%reset\n",
    "# Importing packages\n",
    "import pandas as pd # Data structure and analysis package\n",
    "import numpy as np # Computing package\n",
    "import matplotlib.pyplot as plt # Plots\n",
    "import math\n",
    "import scipy as sp\n",
    "from scipy import linalg\n",
    "from scipy import optimize\n",
    "import sympy as sm\n",
    "from sympy import Max, Symbol, oo, Eq, solve\n",
    "import nashpy as nash\n",
    "#Now we make one function which solves the whole game\n",
    "def combined_function(a,c,b): \n",
    "        N = 999\n",
    "        q2_vec = np.linspace(0,99,N) \n",
    "        #Cournot. We start by profit maximization\n",
    "        def pi11(q1):\n",
    "            return (a- b* q1-b * q2)*q1 -c * q1\n",
    "        q2_try = []\n",
    "        q1_BR = []\n",
    "        pi1_BR = []\n",
    "        for i in q2_vec:\n",
    "            q2 = i\n",
    "            q1_guess = 60      \n",
    "            objective_function = lambda q1: -pi11(q1)\n",
    "            res = optimize.minimize(objective_function, q1_guess, method='BFGS')\n",
    "            q2_try.append(i)\n",
    "            q1_BR.append(res.x[0])\n",
    "            pi1_BR.append(-res.fun)\n",
    "  \n",
    "        q1_BR = np.transpose(q1_BR)\n",
    "        pi1_BR = np.transpose(pi1_BR)\n",
    "        df=pd.DataFrame(q2_try)\n",
    "        df.columns=['q2_exo']\n",
    "        df['q1_BR'] = q1_BR\n",
    "        df['pi1'] = pi1_BR \n",
    "\n",
    "        df['P'] = a - df['q1_BR'] - df['q2_exo']\n",
    "        df['pi2'] = np.transpose(df['P'] * df['q2_exo']) - c * df['q2_exo']\n",
    "\n",
    "        df = df.round(1)\n",
    "\n",
    "        for i in range(N):\n",
    "            if df['q2_exo'][i] == df['q1_BR'][i] and df['q1_BR'][i] > 0:\n",
    "                pi_cournot = df['pi1'][i] \n",
    "                q_cournot = df['q1_BR'][i]\n",
    "            else:\n",
    "                pass\n",
    "    \n",
    "#Collusion\n",
    "        def pi12(Q):\n",
    "            return (a-b *Q)*Q - c * Q\n",
    "        objective_function = lambda Q: -pi12(Q)\n",
    "        res_col = optimize.minimize(objective_function, 20, method='BFGS')\n",
    "        Q_col=res_col.x[0]\n",
    "        pi_joint_col=-round(res_col.fun,1)\n",
    "        pi_indi_col = round(pi_joint_col * 0.5,1)\n",
    "        q_indi_col = round(Q_col * 0.5, 1)\n",
    "#Optimal deviation\n",
    "        pi_dev = round(float(df.loc[df['q2_exo']==q_indi_col, 'pi1']),1)\n",
    "        pi_no_col = round(float(df.loc[df['q2_exo']==q_indi_col, 'pi2']),1)\n",
    "#infinitely repeated game\n",
    "        d = Symbol('d')\n",
    "        delta = solve(Eq(1/(1-d) * pi_indi_col, pi_dev + d/(1-d) * pi_cournot),d)\n",
    "        print(f'a/c = {a/c}, delta  = {round(delta[0],2)}, profit_cournot = {pi_cournot}, profit_collusion = {pi_indi_col}, profit_deviation = {pi_dev}, profit_cheated_on = {pi_no_col}')\n"
   ]
  },
  {
   "cell_type": "code",
   "execution_count": 45,
   "metadata": {},
   "outputs": [
    {
     "name": "stdout",
     "output_type": "stream",
     "text": [
      "a/c = 1.1, delta  = 0.56, profit_cournot = 2.7, profit_collusion = 3.1, profit_deviation = 3.6, profit_cheated_on = 2.3\n",
      "a/c = 2.0, delta  = 0.53, profit_cournot = 1111.2, profit_collusion = 1250.0, profit_deviation = 1406.3, profit_cheated_on = 937.4\n",
      "a/c = 3.0, delta  = 0.53, profit_cournot = 4444.8, profit_collusion = 5000.0, profit_deviation = 5625.3, profit_cheated_on = 3749.8\n",
      "a/c = 4.0, delta  = 0.53, profit_cournot = 2500.2, profit_collusion = 2812.5, profit_deviation = 3164.2, profit_cheated_on = 2109.3\n",
      "a/c = 25.0, delta  = 0.53, profit_cournot = 6403.7, profit_collusion = 7200.0, profit_deviation = 8098.6, profit_cheated_on = 5400.9\n"
     ]
    }
   ],
   "source": [
    "outcome = (combined_function(55,50,1), combined_function(200,100,1), combined_function(300,100,1), combined_function(200,50,1), combined_function(250,10,1))"
   ]
  },
  {
   "cell_type": "markdown",
   "metadata": {},
   "source": [
    "We see that it is no coincidence that we ended up with delta value of 0.53 before. It is a general result of Industrial Organization that with linear demand and constant marginal cost, firms must value profit gained in the future at least 0.53 as much as profit gained today in order to sustain collusion. "
   ]
  },
  {
   "cell_type": "markdown",
   "metadata": {},
   "source": [
    "## Conclusion"
   ]
  },
  {
   "cell_type": "markdown",
   "metadata": {},
   "source": [
    "In the one-shot game firms will not form a cartel. However, in a repeated game the incentive to form a cartel increases as the profits tommorow depend on the action today. If the firms are patient enough, it is possible to sustain a cartel. "
   ]
  }
 ],
 "metadata": {
  "kernelspec": {
   "display_name": "Python 3",
   "language": "python",
   "name": "python3"
  },
  "language_info": {
   "codemirror_mode": {
    "name": "ipython",
    "version": 3
   },
   "file_extension": ".py",
   "mimetype": "text/x-python",
   "name": "python",
   "nbconvert_exporter": "python",
   "pygments_lexer": "ipython3",
   "version": "3.7.1"
  }
 },
 "nbformat": 4,
 "nbformat_minor": 2
}
